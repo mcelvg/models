{
 "cells": [
  {
   "cell_type": "markdown",
   "metadata": {},
   "source": [
    "Scratch code from the [low level intro](https://www.tensorflow.org/programmers_guide/low_level_intro)"
   ]
  },
  {
   "cell_type": "code",
   "execution_count": 1,
   "metadata": {},
   "outputs": [],
   "source": [
    "from __future__ import absolute_import\n",
    "from __future__ import division\n",
    "from __future__ import print_function\n",
    "\n",
    "import numpy as np\n",
    "import tensorflow as tf"
   ]
  },
  {
   "cell_type": "code",
   "execution_count": 2,
   "metadata": {},
   "outputs": [
    {
     "name": "stdout",
     "output_type": "stream",
     "text": [
      "Tensor(\"Const:0\", shape=(), dtype=float32)\n",
      "Tensor(\"Const_1:0\", shape=(), dtype=float32)\n",
      "Tensor(\"add:0\", shape=(), dtype=float32)\n"
     ]
    }
   ],
   "source": [
    "a = tf.constant(3.0, dtype=tf.float32)\n",
    "b = tf.constant(4.0) # impicitly tf.float32\n",
    "total = a + b\n",
    "print(a)\n",
    "print(b)\n",
    "print(total)"
   ]
  },
  {
   "cell_type": "code",
   "execution_count": 3,
   "metadata": {},
   "outputs": [
    {
     "name": "stdout",
     "output_type": "stream",
     "text": [
      "Tensor(\"add:0\", shape=(), dtype=float32) = Tensor(\"Const:0\", shape=(), dtype=float32) + Tensor(\"Const_1:0\", shape=(), dtype=float32)\n"
     ]
    }
   ],
   "source": [
    "print(\"{} = {} + {}\".format(total, a, b))"
   ]
  },
  {
   "cell_type": "markdown",
   "metadata": {},
   "source": [
    "N.B. `tf.tensors` are just handles for values that will flow through the computation graph.\n",
    "\n",
    "Each element in the graph is given a unique name. E.g., `Const:0`, `Const_1:0`, `add:0`. \n",
    "\n",
    "Use TensorBoard to visualize a computation graph."
   ]
  },
  {
   "cell_type": "code",
   "execution_count": 4,
   "metadata": {},
   "outputs": [],
   "source": [
    "writer = tf.summary.FileWriter('.')\n",
    "writer.add_graph(tf.get_default_graph())"
   ]
  },
  {
   "cell_type": "markdown",
   "metadata": {},
   "source": [
    "tensors are evaluated when the computation graph is run inside a `tf.Session`"
   ]
  },
  {
   "cell_type": "code",
   "execution_count": 5,
   "metadata": {},
   "outputs": [
    {
     "name": "stdout",
     "output_type": "stream",
     "text": [
      "7.0\n"
     ]
    }
   ],
   "source": [
    "sess = tf.Session()\n",
    "print(sess.run(total))"
   ]
  },
  {
   "cell_type": "code",
   "execution_count": 6,
   "metadata": {},
   "outputs": [
    {
     "name": "stdout",
     "output_type": "stream",
     "text": [
      "{'ab': (3.0, 4.0), 'total': 7.0}\n"
     ]
    }
   ],
   "source": [
    "print(sess.run({'ab':(a, b), 'total':total}))"
   ]
  },
  {
   "cell_type": "code",
   "execution_count": 7,
   "metadata": {},
   "outputs": [
    {
     "name": "stdout",
     "output_type": "stream",
     "text": [
      "[0.4092859 0.9459708 0.3737898]\n",
      "[0.8291367  0.33590138 0.52889895]\n",
      "\n",
      "[1.082676  1.004563  1.9091648]\n",
      "[2.082676  2.0045629 2.909165 ]\n"
     ]
    }
   ],
   "source": [
    "vec = tf.random_uniform(shape=(3,))\n",
    "out1 = vec + 1\n",
    "out2 = vec + 2\n",
    "print(sess.run(vec))\n",
    "print(sess.run(vec))\n",
    "res = sess.run((out1, out2))\n",
    "print(\"\\n{}\\n{}\".format(res[0],res[1]))"
   ]
  },
  {
   "cell_type": "markdown",
   "metadata": {},
   "source": [
    "Placeholders allow graphs to accept external inputs"
   ]
  },
  {
   "cell_type": "code",
   "execution_count": 8,
   "metadata": {},
   "outputs": [],
   "source": [
    "x = tf.placeholder(tf.float32)\n",
    "y = tf.placeholder(tf.float32)\n",
    "z = x + y"
   ]
  },
  {
   "cell_type": "code",
   "execution_count": 9,
   "metadata": {},
   "outputs": [
    {
     "name": "stdout",
     "output_type": "stream",
     "text": [
      "7.5\n",
      "[3. 7.]\n"
     ]
    }
   ],
   "source": [
    "print(sess.run(z, feed_dict={x:3, y:4.5}))\n",
    "print(sess.run(z, feed_dict={x:[1,3], y:[2,4]}))"
   ]
  },
  {
   "cell_type": "markdown",
   "metadata": {},
   "source": [
    "N.B. A placeholder can overwrite any tensor in the graph. The only real difference between placeholders and other tensors is that placeholders throw an error if no value is fed to them."
   ]
  },
  {
   "cell_type": "markdown",
   "metadata": {},
   "source": [
    "`Datasets` are the primary way of streaming data to a model. They encapsulate an iterable of tensors. "
   ]
  },
  {
   "cell_type": "code",
   "execution_count": 10,
   "metadata": {},
   "outputs": [
    {
     "name": "stdout",
     "output_type": "stream",
     "text": [
      "[[0, 1], [2, 3], [4, 5], [6, 7]]\n",
      "type: <class 'list'>\n",
      "\n",
      "Tensor(\"IteratorGetNext:0\", shape=(2,), dtype=int32)\n",
      "type: <class 'tensorflow.python.framework.ops.Tensor'>\n"
     ]
    }
   ],
   "source": [
    "my_data = [\n",
    "    [0, 1,],\n",
    "    [2, 3,],\n",
    "    [4, 5,],\n",
    "    [6, 7,]\n",
    "]\n",
    "print(\"{}\\ntype: {}\".format(my_data, type(my_data)))\n",
    "\n",
    "slices = tf.data.Dataset.from_tensor_slices(my_data)\n",
    "next_item = slices.make_one_shot_iterator().get_next()\n",
    "\n",
    "print(\"\\n{}\\ntype: {}\".format(next_item, type(next_item)))"
   ]
  },
  {
   "cell_type": "code",
   "execution_count": 11,
   "metadata": {},
   "outputs": [
    {
     "name": "stdout",
     "output_type": "stream",
     "text": [
      "[0 1]\n",
      "[2 3]\n",
      "[4 5]\n",
      "[6 7]\n"
     ]
    }
   ],
   "source": [
    "while True:\n",
    "  try:\n",
    "    print(sess.run(next_item))\n",
    "  except tf.errors.OutOfRangeError:\n",
    "    break"
   ]
  },
  {
   "cell_type": "markdown",
   "metadata": {},
   "source": [
    "During a `tf.Session` any `tf.Tensor` may have only one value.\n",
    "**Layers** are the preferred way of adding trainable parameters to a model. Layers encapsulate variables and the operations that run on them. *\"For example a [densely-connected layer](https://developers.google.com/machine-learning/glossary/#fully_connected_layer) performs a weighted sum across all inputs for each output and applies an optional [activation function](https://developers.google.com/machine-learning/glossary/#activation_function).\"*"
   ]
  },
  {
   "cell_type": "code",
   "execution_count": 12,
   "metadata": {},
   "outputs": [
    {
     "name": "stdout",
     "output_type": "stream",
     "text": [
      "[[-1.1721561]\n",
      " [-2.8075485]]\n"
     ]
    }
   ],
   "source": [
    "x = tf.placeholder(tf.float32, shape=[None,3])\n",
    "linear_model = tf.layers.Dense(units=1)\n",
    "y = linear_model(x)\n",
    "\n",
    "# \"init\" is a handle for another tensorflow operation.\n",
    "# It will initialize global variables when the session \n",
    "# is run but only those that exist in the graph before \n",
    "# the initializer is created.\n",
    "init = tf.global_variables_initializer()\n",
    "sess.run(init)\n",
    "\n",
    "# after initialization,\n",
    "print(sess.run(y, {x: [[1,2,3],[4,5,6]]}))"
   ]
  },
  {
   "cell_type": "markdown",
   "metadata": {},
   "source": [
    "Running the following (without an initializer) throws an uninitialized value error.\n",
    "\n",
    "```\n",
    "x = tf.placeholder(tf.float32, shape=[None,3])\n",
    "linear_model = tf.layers.Dense(units=1)\n",
    "y = linear_model(x)\n",
    "print(sess.run(y, {x: [[1,2,3],[4,5,6]]}))\n",
    "```"
   ]
  },
  {
   "cell_type": "markdown",
   "metadata": {},
   "source": [
    "Layer \"shortcut\" functions allow running a layer without naming them, but this makes introspection and debugging more difficult."
   ]
  },
  {
   "cell_type": "code",
   "execution_count": 13,
   "metadata": {},
   "outputs": [
    {
     "name": "stdout",
     "output_type": "stream",
     "text": [
      "[[1.8502705]\n",
      " [3.3839169]]\n"
     ]
    }
   ],
   "source": [
    "x = tf.placeholder(tf.float32, shape=[None, 3])\n",
    "y = tf.layers.dense(x, units=1)\n",
    "init = tf.global_variables_initializer()\n",
    "sess.run(init)\n",
    "print(sess.run(y, {x: [[1,2,3],[4,5,6]]}))"
   ]
  },
  {
   "cell_type": "markdown",
   "metadata": {},
   "source": [
    "Feature columns"
   ]
  },
  {
   "cell_type": "code",
   "execution_count": 14,
   "metadata": {},
   "outputs": [],
   "source": [
    "features = {\n",
    "    'sales' : [[5], [10], [8], [9]],\n",
    "    'department' : ['sports', 'sports', 'gardening', 'gardening']\n",
    "}\n",
    "\n",
    "department_column = tf.feature_column.categorical_column_with_vocabulary_list(\n",
    "'department', ['sports', 'gardening'])\n",
    "department_column = tf.feature_column.indicator_column(department_column)\n",
    "\n",
    "columns = [\n",
    "    tf.feature_column.numeric_column('sales'),\n",
    "    department_column\n",
    "]\n",
    "\n",
    "inputs = tf.feature_column.input_layer(features, columns)"
   ]
  },
  {
   "cell_type": "markdown",
   "metadata": {},
   "source": [
    "Columns are containers with state. They load values (e.g., from the features dictionary) and may require initialization. Categorical columns use lookup tables, which can be initialized with the `tf.tables_initializer`, as below."
   ]
  },
  {
   "cell_type": "code",
   "execution_count": 15,
   "metadata": {},
   "outputs": [
    {
     "name": "stdout",
     "output_type": "stream",
     "text": [
      "[[ 1.  0.  5.]\n",
      " [ 1.  0. 10.]\n",
      " [ 0.  1.  8.]\n",
      " [ 0.  1.  9.]]\n"
     ]
    }
   ],
   "source": [
    "var_init = tf.global_variables_initializer()\n",
    "table_init = tf.tables_initializer()\n",
    "sess = tf.Session()\n",
    "sess.run((var_init, table_init))\n",
    "print(sess.run(inputs))"
   ]
  },
  {
   "cell_type": "markdown",
   "metadata": {},
   "source": [
    "Train a small regression model manually"
   ]
  },
  {
   "cell_type": "code",
   "execution_count": 16,
   "metadata": {},
   "outputs": [
    {
     "name": "stdout",
     "output_type": "stream",
     "text": [
      "initial predictions:\n",
      "[[0.52570164]\n",
      " [1.0514033 ]\n",
      " [1.5771049 ]\n",
      " [2.1028066 ]]\n",
      "\n",
      "intial loss: 10.829732894897461\n",
      "\n",
      "loss_values = [10.829733, 7.6074333, 5.3709927, 3.8186212, 2.7409148, 1.9925715, 1.4727699, 1.111551, 0.86037326, 0.6855536, 0.5637204, 0.47865665, 0.41910943, 0.37727094, 0.3477232, 0.3267068, 0.31161314, 0.30063233, 0.29250824, 0.2863695, 0.2816113, 0.27781394, 0.2746864, 0.27202645, 0.2696939, 0.26759148, 0.26565164, 0.26382744, 0.26208645, 0.26040584, 0.2587701, 0.25716832, 0.25559276, 0.25403827, 0.2525012, 0.25097883, 0.24946943, 0.24797185, 0.24648502, 0.24500835, 0.24354145, 0.24208392, 0.24063562, 0.2391962, 0.23776561, 0.23634368, 0.2349304, 0.23352563, 0.23212934, 0.23074137, 0.22936177, 0.22799043, 0.22662729, 0.22527231, 0.22392541, 0.2225866, 0.22125578, 0.21993288, 0.21861796, 0.2173109, 0.2160116, 0.2147201, 0.21343634, 0.21216017, 0.21089175, 0.20963086, 0.20837751, 0.20713167, 0.20589323, 0.20466226, 0.20343864, 0.20222226, 0.20101318, 0.19981135, 0.19861674, 0.19742927, 0.19624883, 0.1950755, 0.19390923, 0.19274984, 0.19159739, 0.19045189, 0.18931317, 0.18818131, 0.18705623, 0.18593785, 0.18482612, 0.18372107, 0.18262266, 0.18153079, 0.18044546, 0.17936659, 0.1782942, 0.17722818, 0.17616859, 0.17511529, 0.17406832, 0.1730276, 0.1719931, 0.17096476]\n",
      "\n",
      "final predictions:\n",
      "[[-0.6656417]\n",
      " [-1.3225489]\n",
      " [-1.9794561]\n",
      " [-2.6363633]]\n",
      "\n",
      "actual values:\n",
      "[[0], [-1], [-2], [-3]]\n"
     ]
    }
   ],
   "source": [
    "# define data and expected output values\n",
    "x = tf.constant([[1], [2], [3], [4]], dtype=tf.float32)\n",
    "actual_values = [[0], [-1], [-2], [-3]]\n",
    "y_true = tf.constant(actual_values, dtype=tf.float32)\n",
    "\n",
    "# define the model\n",
    "linear_model = tf.layers.Dense(units=1)\n",
    "y_pred = linear_model(x)\n",
    "\n",
    "# evaluate predictions, before training\n",
    "sess = tf.Session()\n",
    "init = tf.global_variables_initializer()\n",
    "sess.run(init)\n",
    "\n",
    "print(\"initial predictions:\\n{}\".format(sess.run(y_pred)))\n",
    "\n",
    "# use mean squared error for the loss function\n",
    "loss = tf.losses.mean_squared_error(labels=y_true, predictions=y_pred)\n",
    "\n",
    "print(\"\\nintial loss: {}\".format(sess.run(loss)))\n",
    "\n",
    "# construct a training function\n",
    "optimizer = tf.train.GradientDescentOptimizer(0.01)\n",
    "train = optimizer.minimize(loss)\n",
    "\n",
    "# the training function updates variables in the graph\n",
    "# note that \"train\" is an \"op\" not a tensor, so it returns no value \n",
    "loss_values = []\n",
    "for i in range(100):\n",
    "    _, loss_value = sess.run((train, loss))\n",
    "    loss_values.append(loss_value)\n",
    "print(\"\\nloss_values = {}\".format(loss_values))\n",
    "\n",
    "print(\"\\nfinal predictions:\\n{}\".format(sess.run(y_pred)))\n",
    "\n",
    "print(\"\\nactual values:\\n{}\".format(actual_values))"
   ]
  },
  {
   "cell_type": "code",
   "execution_count": null,
   "metadata": {},
   "outputs": [],
   "source": []
  }
 ],
 "metadata": {
  "kernelspec": {
   "display_name": "Python 3",
   "language": "python",
   "name": "python3"
  },
  "language_info": {
   "codemirror_mode": {
    "name": "ipython",
    "version": 3
   },
   "file_extension": ".py",
   "mimetype": "text/x-python",
   "name": "python",
   "nbconvert_exporter": "python",
   "pygments_lexer": "ipython3",
   "version": "3.6.4"
  }
 },
 "nbformat": 4,
 "nbformat_minor": 2
}
